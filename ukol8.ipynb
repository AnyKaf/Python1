{
 "cells": [
  {
   "attachments": {},
   "cell_type": "markdown",
   "metadata": {},
   "source": [
    "### Domácí úkol 8"
   ]
  },
  {
   "cell_type": "code",
   "execution_count": null,
   "metadata": {},
   "outputs": [],
   "source": [
    "import pandas\n",
    "\n",
    "zvirata = pandas.read_csv(\"adopce-zvirat.csv\", sep= \";\")\n",
    "zvirata"
   ]
  },
  {
   "attachments": {},
   "cell_type": "markdown",
   "metadata": {},
   "source": [
    "- Kolik má tabulka řádek a sloupců? Jak se sloupce jmenují?\n"
   ]
  },
  {
   "attachments": {},
   "cell_type": "markdown",
   "metadata": {},
   "source": [
    "513 řádek \n",
    "6 sloupců: id, nazev_cz, nazev_en, trida_cz, cena, k_prohlidce\n",
    "\n",
    "(stačí zobrazit tabulku a píše se to dole)"
   ]
  },
  {
   "attachments": {},
   "cell_type": "markdown",
   "metadata": {},
   "source": [
    "- Které zvíře se nachází na záznamu s indexem 34? Vypiš název tohoto zvířete v češtině a v angličtině"
   ]
  },
  {
   "cell_type": "code",
   "execution_count": null,
   "metadata": {},
   "outputs": [],
   "source": [
    "zvirata[[\"nazev_cz\", \"nazev_en\"]].iloc[34]"
   ]
  },
  {
   "attachments": {},
   "cell_type": "markdown",
   "metadata": {},
   "source": [
    "## Bonus:\n",
    "\n",
    "- Adopce kterých zvířat je nejdražší?\n",
    "- Které zvíře je alfabeticky poslední v češtině? Které v angličtině?\n",
    "- Bonus můžeš doplnit o nějaké vlastní pozorování."
   ]
  },
  {
   "cell_type": "code",
   "execution_count": null,
   "metadata": {},
   "outputs": [],
   "source": [
    "\n",
    "podle_ceny = zvirata.sort_values(by= \"cena\")\n",
    "podle_ceny[[\"nazev_cz\", \"cena\"]].tail(10)\n"
   ]
  },
  {
   "attachments": {},
   "cell_type": "markdown",
   "metadata": {},
   "source": [
    "*Jediný způsob co mi funguje je seradit si je a zkusit treba poslednich 10, a pak uz to clovek vidi.*\n",
    "*Taky jsem zkousela najít si nejvyšší cenu a pak projít jednotlivé řádky tabulky a porovnat s nejvyšší cenou --> vvypsat jméno zvířete, ale to mi nefungovalo :(*"
   ]
  },
  {
   "cell_type": "code",
   "execution_count": null,
   "metadata": {},
   "outputs": [],
   "source": [
    "abecedne = zvirata.sort_values(by = \"nazev_cz\")\n",
    "abecedne[\"nazev_cz\"].iloc[-1]"
   ]
  },
  {
   "cell_type": "code",
   "execution_count": null,
   "metadata": {},
   "outputs": [],
   "source": [
    "alphabetical = zvirata.sort_values(by = \"nazev_en\")\n",
    "alphabetical[\"nazev_en\"].iloc[-1]"
   ]
  }
 ],
 "metadata": {
  "kernelspec": {
   "display_name": "Python 3",
   "language": "python",
   "name": "python3"
  },
  "language_info": {
   "codemirror_mode": {
    "name": "ipython",
    "version": 3
   },
   "file_extension": ".py",
   "mimetype": "text/x-python",
   "name": "python",
   "nbconvert_exporter": "python",
   "pygments_lexer": "ipython3",
   "version": "3.11.0"
  },
  "orig_nbformat": 4,
  "vscode": {
   "interpreter": {
    "hash": "aee8b7b246df8f9039afb4144a1f6fd8d2ca17a180786b69acc140d282b71a49"
   }
  }
 },
 "nbformat": 4,
 "nbformat_minor": 2
}
